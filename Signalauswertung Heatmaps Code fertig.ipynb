{
 "cells": [
  {
   "cell_type": "code",
   "execution_count": 11,
   "metadata": {},
   "outputs": [],
   "source": [
    "import serial # damit ich von Serial-Connection Daten lesen kann \n",
    "import time # weil wir Zeit zum Warten brauchen\n",
    "import pandas as pd # zum Verarbeiten von time series\n",
    "import matplotlib.pyplot as plt # für Heatmaps\n",
    "import seaborn as sns # für Heatmaps\n",
    "import numpy as np # für Fitfunktion\n",
    "from scipy.optimize import curve_fit # für Fiftfunktion"
   ]
  },
  {
   "cell_type": "markdown",
   "metadata": {},
   "source": [
    "### Code DEMO"
   ]
  },
  {
   "cell_type": "code",
   "execution_count": 12,
   "metadata": {},
   "outputs": [],
   "source": [
    "#Definieren der Spaltennamen\n",
    "column_names = ['hDeg', 'vDeg', 'AmbientT', 'ObjectT', 'Clear', 'Red', \n",
    "                'Green', 'Blue', 'IR']"
   ]
  },
  {
   "cell_type": "code",
   "execution_count": 22,
   "metadata": {},
   "outputs": [],
   "source": [
    "dfDemo = pd.read_csv('./Demo Dataframe.csv', names = column_names)"
   ]
  },
  {
   "cell_type": "code",
   "execution_count": 23,
   "metadata": {},
   "outputs": [],
   "source": [
    "def quotient_IR_clear(row):\n",
    "    return row[\"IR\"] / row[\"Clear\"] if row[\"Clear\"] != 0 else np.inf\n",
    "\n",
    "def quotient_red_blue(row):\n",
    "    return row[\"Red\"] / row[\"Blue\"] if row[\"Blue\"] != 0 else np.inf"
   ]
  },
  {
   "cell_type": "code",
   "execution_count": 24,
   "metadata": {},
   "outputs": [],
   "source": [
    "dfDemo[\"quotient IR clear\"] = dfDemo.apply(quotient_IR_clear, axis=1)\n",
    "dfDemo[\"quotient Red Blue\"] = dfDemo.apply(quotient_red_blue, axis=1)"
   ]
  },
  {
   "cell_type": "code",
   "execution_count": 25,
   "metadata": {},
   "outputs": [
    {
     "data": {
      "text/html": [
       "<div>\n",
       "<style scoped>\n",
       "    .dataframe tbody tr th:only-of-type {\n",
       "        vertical-align: middle;\n",
       "    }\n",
       "\n",
       "    .dataframe tbody tr th {\n",
       "        vertical-align: top;\n",
       "    }\n",
       "\n",
       "    .dataframe thead th {\n",
       "        text-align: right;\n",
       "    }\n",
       "</style>\n",
       "<table border=\"1\" class=\"dataframe\">\n",
       "  <thead>\n",
       "    <tr style=\"text-align: right;\">\n",
       "      <th></th>\n",
       "      <th>hDeg</th>\n",
       "      <th>vDeg</th>\n",
       "      <th>AmbientT</th>\n",
       "      <th>ObjectT</th>\n",
       "      <th>Clear</th>\n",
       "      <th>Red</th>\n",
       "      <th>Green</th>\n",
       "      <th>Blue</th>\n",
       "      <th>IR</th>\n",
       "      <th>quotient IR clear</th>\n",
       "      <th>quotient Red Blue</th>\n",
       "    </tr>\n",
       "  </thead>\n",
       "  <tbody>\n",
       "    <tr>\n",
       "      <th>0</th>\n",
       "      <td>0.0</td>\n",
       "      <td>45.0</td>\n",
       "      <td>23.11</td>\n",
       "      <td>23.57</td>\n",
       "      <td>306.0</td>\n",
       "      <td>112.0</td>\n",
       "      <td>148.0</td>\n",
       "      <td>125.0</td>\n",
       "      <td>172.0</td>\n",
       "      <td>0.562092</td>\n",
       "      <td>0.896000</td>\n",
       "    </tr>\n",
       "    <tr>\n",
       "      <th>1</th>\n",
       "      <td>0.0</td>\n",
       "      <td>50.0</td>\n",
       "      <td>23.09</td>\n",
       "      <td>23.59</td>\n",
       "      <td>311.0</td>\n",
       "      <td>112.0</td>\n",
       "      <td>149.0</td>\n",
       "      <td>127.0</td>\n",
       "      <td>165.0</td>\n",
       "      <td>0.530547</td>\n",
       "      <td>0.881890</td>\n",
       "    </tr>\n",
       "    <tr>\n",
       "      <th>2</th>\n",
       "      <td>0.0</td>\n",
       "      <td>55.0</td>\n",
       "      <td>23.15</td>\n",
       "      <td>23.59</td>\n",
       "      <td>310.0</td>\n",
       "      <td>107.0</td>\n",
       "      <td>147.0</td>\n",
       "      <td>125.0</td>\n",
       "      <td>147.0</td>\n",
       "      <td>0.474194</td>\n",
       "      <td>0.856000</td>\n",
       "    </tr>\n",
       "    <tr>\n",
       "      <th>3</th>\n",
       "      <td>0.0</td>\n",
       "      <td>60.0</td>\n",
       "      <td>22.99</td>\n",
       "      <td>23.59</td>\n",
       "      <td>322.0</td>\n",
       "      <td>107.0</td>\n",
       "      <td>152.0</td>\n",
       "      <td>130.0</td>\n",
       "      <td>135.0</td>\n",
       "      <td>0.419255</td>\n",
       "      <td>0.823077</td>\n",
       "    </tr>\n",
       "    <tr>\n",
       "      <th>4</th>\n",
       "      <td>0.0</td>\n",
       "      <td>65.0</td>\n",
       "      <td>23.09</td>\n",
       "      <td>23.56</td>\n",
       "      <td>329.0</td>\n",
       "      <td>107.0</td>\n",
       "      <td>156.0</td>\n",
       "      <td>133.0</td>\n",
       "      <td>140.0</td>\n",
       "      <td>0.425532</td>\n",
       "      <td>0.804511</td>\n",
       "    </tr>\n",
       "    <tr>\n",
       "      <th>...</th>\n",
       "      <td>...</td>\n",
       "      <td>...</td>\n",
       "      <td>...</td>\n",
       "      <td>...</td>\n",
       "      <td>...</td>\n",
       "      <td>...</td>\n",
       "      <td>...</td>\n",
       "      <td>...</td>\n",
       "      <td>...</td>\n",
       "      <td>...</td>\n",
       "      <td>...</td>\n",
       "    </tr>\n",
       "    <tr>\n",
       "      <th>356</th>\n",
       "      <td>180.0</td>\n",
       "      <td>115.0</td>\n",
       "      <td>22.57</td>\n",
       "      <td>23.61</td>\n",
       "      <td>1755.0</td>\n",
       "      <td>681.0</td>\n",
       "      <td>782.0</td>\n",
       "      <td>648.0</td>\n",
       "      <td>754.0</td>\n",
       "      <td>0.429630</td>\n",
       "      <td>1.050926</td>\n",
       "    </tr>\n",
       "    <tr>\n",
       "      <th>357</th>\n",
       "      <td>180.0</td>\n",
       "      <td>120.0</td>\n",
       "      <td>22.51</td>\n",
       "      <td>23.69</td>\n",
       "      <td>1807.0</td>\n",
       "      <td>699.0</td>\n",
       "      <td>794.0</td>\n",
       "      <td>667.0</td>\n",
       "      <td>763.0</td>\n",
       "      <td>0.422247</td>\n",
       "      <td>1.047976</td>\n",
       "    </tr>\n",
       "    <tr>\n",
       "      <th>358</th>\n",
       "      <td>180.0</td>\n",
       "      <td>125.0</td>\n",
       "      <td>22.53</td>\n",
       "      <td>23.61</td>\n",
       "      <td>1841.0</td>\n",
       "      <td>705.0</td>\n",
       "      <td>803.0</td>\n",
       "      <td>686.0</td>\n",
       "      <td>767.0</td>\n",
       "      <td>0.416621</td>\n",
       "      <td>1.027697</td>\n",
       "    </tr>\n",
       "    <tr>\n",
       "      <th>359</th>\n",
       "      <td>180.0</td>\n",
       "      <td>130.0</td>\n",
       "      <td>22.53</td>\n",
       "      <td>23.61</td>\n",
       "      <td>1864.0</td>\n",
       "      <td>704.0</td>\n",
       "      <td>804.0</td>\n",
       "      <td>702.0</td>\n",
       "      <td>771.0</td>\n",
       "      <td>0.413627</td>\n",
       "      <td>1.002849</td>\n",
       "    </tr>\n",
       "    <tr>\n",
       "      <th>360</th>\n",
       "      <td>180.0</td>\n",
       "      <td>135.0</td>\n",
       "      <td>22.51</td>\n",
       "      <td>23.65</td>\n",
       "      <td>1875.0</td>\n",
       "      <td>692.0</td>\n",
       "      <td>799.0</td>\n",
       "      <td>711.0</td>\n",
       "      <td>769.0</td>\n",
       "      <td>0.410133</td>\n",
       "      <td>0.973277</td>\n",
       "    </tr>\n",
       "  </tbody>\n",
       "</table>\n",
       "<p>361 rows × 11 columns</p>\n",
       "</div>"
      ],
      "text/plain": [
       "      hDeg   vDeg  AmbientT  ObjectT   Clear    Red  Green   Blue     IR  \\\n",
       "0      0.0   45.0     23.11    23.57   306.0  112.0  148.0  125.0  172.0   \n",
       "1      0.0   50.0     23.09    23.59   311.0  112.0  149.0  127.0  165.0   \n",
       "2      0.0   55.0     23.15    23.59   310.0  107.0  147.0  125.0  147.0   \n",
       "3      0.0   60.0     22.99    23.59   322.0  107.0  152.0  130.0  135.0   \n",
       "4      0.0   65.0     23.09    23.56   329.0  107.0  156.0  133.0  140.0   \n",
       "..     ...    ...       ...      ...     ...    ...    ...    ...    ...   \n",
       "356  180.0  115.0     22.57    23.61  1755.0  681.0  782.0  648.0  754.0   \n",
       "357  180.0  120.0     22.51    23.69  1807.0  699.0  794.0  667.0  763.0   \n",
       "358  180.0  125.0     22.53    23.61  1841.0  705.0  803.0  686.0  767.0   \n",
       "359  180.0  130.0     22.53    23.61  1864.0  704.0  804.0  702.0  771.0   \n",
       "360  180.0  135.0     22.51    23.65  1875.0  692.0  799.0  711.0  769.0   \n",
       "\n",
       "     quotient IR clear  quotient Red Blue  \n",
       "0             0.562092           0.896000  \n",
       "1             0.530547           0.881890  \n",
       "2             0.474194           0.856000  \n",
       "3             0.419255           0.823077  \n",
       "4             0.425532           0.804511  \n",
       "..                 ...                ...  \n",
       "356           0.429630           1.050926  \n",
       "357           0.422247           1.047976  \n",
       "358           0.416621           1.027697  \n",
       "359           0.413627           1.002849  \n",
       "360           0.410133           0.973277  \n",
       "\n",
       "[361 rows x 11 columns]"
      ]
     },
     "execution_count": 25,
     "metadata": {},
     "output_type": "execute_result"
    }
   ],
   "source": [
    "dfDemo"
   ]
  },
  {
   "cell_type": "code",
   "execution_count": 26,
   "metadata": {},
   "outputs": [],
   "source": [
    "# Heatmap ohne Normalisierung auf das Maximum - selbe Funktion wie oben nur nicht \n",
    "# min und max aller Daten abgefragt und auf die normiet \n",
    "\n",
    "def get_heatmap(input_dataframe: pd.DataFrame, values_column: str, \n",
    "                plot_title: str, colormap: str): \n",
    "    \n",
    "    heatmap_data = input_dataframe.pivot(index = 'vDeg', \n",
    "                                         columns = 'hDeg', values = values_column)\n",
    "    plt.figure(figsize= (6,5))\n",
    "    ax = sns.heatmap(heatmap_data, annot = False, cmap = colormap)\n",
    "    ax.invert_yaxis()\n",
    "    plt.title(plot_title)\n",
    "    plt.show()"
   ]
  },
  {
   "cell_type": "code",
   "execution_count": 27,
   "metadata": {},
   "outputs": [
    {
     "data": {
      "image/png": "[encoded data removed]",
      "text/plain": [
       "<Figure size 600x500 with 2 Axes>"
      ]
     },
     "metadata": {},
     "output_type": "display_data"
    }
   ],
   "source": [
    "get_heatmap(dfDemo, \"quotient IR clear\", \"Demo Plot\", \"coolwarm\")"
   ]
  },
  {
   "cell_type": "code",
   "execution_count": null,
   "metadata": {},
   "outputs": [],
   "source": [
    "get_heatmap(dfDemo, \"Clear\", \"Demo Plot\", \"cividis\")"
   ]
  },
  {
   "cell_type": "code",
   "execution_count": null,
   "metadata": {},
   "outputs": [],
   "source": [
    "get_heatmap(dfDemo, \"IR\", \"Demo Plot\", \"hot\")"
   ]
  },
  {
   "cell_type": "markdown",
   "metadata": {},
   "source": [
    "### Gesamtcode"
   ]
  },
  {
   "cell_type": "code",
   "execution_count": 2,
   "metadata": {},
   "outputs": [],
   "source": [
    "#Definieren der Spaltennamen\n",
    "column_names = ['hDeg', 'vDeg', 'AmbientT', 'ObjectT', 'Clear', 'Red', \n",
    "                'Green', 'Blue', 'IR']"
   ]
  },
  {
   "cell_type": "code",
   "execution_count": 3,
   "metadata": {},
   "outputs": [],
   "source": [
    "# Einlesen aller erstellter csv Dateien als unterschiedlich benannte Dataframes\n",
    "# die einzelnen Spalten werden dabei nach den oben benannten Strings \n",
    "# für die Column names benannt\n",
    "\n",
    "dfK5 = pd.read_csv('./Kerze_5cm.csv', names = column_names)\n",
    "dfK10 = pd.read_csv('./Kerze_10cm.csv', names = column_names)\n",
    "dfK15 = pd.read_csv('./Kerze_15cm.csv', names = column_names)\n",
    "dfK20 = pd.read_csv('./Kerze_20cm.csv', names = column_names)\n",
    "dfK30 = pd.read_csv('./K_30cm.csv', names = column_names)\n",
    "dfK50 = pd.read_csv('./K_50cm.csv', names = column_names)\n",
    "dfK100 = pd.read_csv('./K_100cm.csv', names = column_names)\n",
    "dfK350 = pd.read_csv('./K_350cm.csv', names = column_names)\n",
    "\n",
    "dfLED5 = pd.read_csv('./LED_5cm.csv', names = column_names)\n",
    "dfLED10 = pd.read_csv('./LED_10cm.csv', names = column_names)\n",
    "dfLED15 = pd.read_csv('./LED_15cm.csv', names = column_names)\n",
    "dfLED100 = pd.read_csv('./LED_100cm.csv', names = column_names)\n",
    "\n",
    "\n",
    "df15_beide = pd.read_csv('./beide_15cm.csv', names = column_names)\n",
    "\n"
   ]
  },
  {
   "cell_type": "code",
   "execution_count": 4,
   "metadata": {},
   "outputs": [],
   "source": [
    "dataframe_liste = [dfK5, dfK10, dfK15, dfK20, dfK30, dfK50, dfK100, dfK350, \n",
    "                   dfLED5, dfLED10, dfLED15, dfLED100, df15_beide, dfDemo]"
   ]
  },
  {
   "cell_type": "code",
   "execution_count": 5,
   "metadata": {},
   "outputs": [],
   "source": [
    "dataframe_liste_without_5cm = [dfK10, dfK15, dfK20, dfK30, dfK50, dfK100, dfK350, \n",
    "                    dfLED10, dfLED15, dfLED100, df15_beide, dfDemo]"
   ]
  },
  {
   "cell_type": "markdown",
   "metadata": {},
   "source": [
    "#### Intensität der aufgenommenen Signale als Funktion des Abstandes vom Sensor zum Experiment "
   ]
  },
  {
   "cell_type": "code",
   "execution_count": 6,
   "metadata": {},
   "outputs": [],
   "source": [
    "# Listen erstellen, in denen später die Maximalwerte \n",
    "# aus jeder Heatmap gespeichert werden sollen \n",
    "\n",
    "max_IR_liste_kerze = []\n",
    "max_clear_liste_kerze = []\n",
    "max_IR_liste_LED = []\n",
    "max_clear_liste_LED = []"
   ]
  },
  {
   "cell_type": "code",
   "execution_count": 7,
   "metadata": {},
   "outputs": [],
   "source": [
    "# Maximalwerte der Kerzen-Messungen in die Listen \n",
    "\n",
    "for i in range(8):\n",
    "    df = dataframe_liste[i]\n",
    "    max_IR = df['IR'].max()                 # Maximum aus der IR Spalte \n",
    "    max_clear = df['Clear'].max()           # Maximum aus der Clear Spalte\n",
    "    max_IR_liste_kerze.append(max_IR)       # Maxima der Messreihen zu Listen \n",
    "    max_clear_liste_kerze.append(max_IR)"
   ]
  },
  {
   "cell_type": "code",
   "execution_count": 8,
   "metadata": {},
   "outputs": [],
   "source": [
    "# Maximalwerte der LED-Messungen in die Listen\n",
    "\n",
    "for i in range(8,13):\n",
    "    df = dataframe_liste[i]\n",
    "    max_IR = df['IR'].max()\n",
    "    max_clear = df['Clear'].max()\n",
    "    max_IR_liste_LED.append(max_IR)\n",
    "    max_clear_liste_LED.append(max_IR)"
   ]
  },
  {
   "cell_type": "code",
   "execution_count": 9,
   "metadata": {},
   "outputs": [],
   "source": [
    "# Listen in Arrays umwandeln (für Fitfunktionen) und zum Test einen ausgeben lassen\n",
    "\n",
    "max_IR_array_kerze = np.array(max_IR_liste_kerze)\n",
    "max_clear_array_kerze = np.array(max_clear_liste_kerze)\n",
    "max_clear_array_kerze\n",
    "\n",
    "max_IR_array_LED = np.array(max_IR_liste_LED)\n",
    "max_clear_array_LED = np.array(max_clear_liste_LED)\n"
   ]
  },
  {
   "cell_type": "code",
   "execution_count": 10,
   "metadata": {},
   "outputs": [],
   "source": [
    "# Distanzen bei denen wir gemessen haben jeweils in Array eintragen \n",
    "\n",
    "distance_array_kerze = np.array([5, 10, 15, 20, 30, 50, 100, 350])\n",
    "distance_array_LED = np.array([5,10,15,100])"
   ]
  },
  {
   "cell_type": "code",
   "execution_count": 11,
   "metadata": {},
   "outputs": [],
   "source": [
    "# Fitfunktion 1/r^2 vordefinieren\n",
    "\n",
    "def inverse_square_func(r,a):\n",
    "    return a/r**2\n",
    "\n",
    "# Funktion definieren, die die Funktion, mit der gefittet werden, soll, \n",
    "# die x- und y-Daten und Labels für einen Plot als Input nimmt\n",
    "# und einen Plot mit den Werten und der eingezeichneten Fit-Funktion erstellt \n",
    "def plot_fit(function, x_values: np.array, y_values: np.array, x_label: str, \n",
    "             y_label: str, Title: str):\n",
    "    # Fit-Funktion mit den Inputs, die man dem plot_fit Befehl übergibt\n",
    "    params, _ = curve_fit(function, x_values, y_values)             \n",
    "\n",
    "    x_fit = np.linspace(x_values.min(), x_values.max(), 100)        \n",
    "    y_fit = function(x_fit, *params)                               \n",
    "\n",
    "    plt.scatter(x_values, y_values, label='Data points')\n",
    "    plt.plot(x_fit, y_fit, color='orange', label='Fit Function')\n",
    "    plt.xlabel(x_label)\n",
    "    plt.ylabel(y_label)\n",
    "    plt.legend()\n",
    "    plt.title(Title)\n",
    "    plt.show()"
   ]
  },
  {
   "cell_type": "code",
   "execution_count": null,
   "metadata": {},
   "outputs": [],
   "source": [
    "# Jetzt kann man die Funktion aufrufen und damit den Fit und die Datenpunkte plotten\n",
    "plot = plot_fit(inverse_square_func, distance_array_kerze, max_IR_array_kerze, \n",
    "                'distance / cm ', 'max IR measurement', 'IR and Distance Kerze')"
   ]
  },
  {
   "cell_type": "code",
   "execution_count": null,
   "metadata": {},
   "outputs": [],
   "source": [
    "plot_fit(inverse_square_func, distance_array_LED, max_IR_array_LED, \n",
    "         'distance / cm ', 'max IR measurement', 'IR and Distance LED')"
   ]
  },
  {
   "cell_type": "code",
   "execution_count": null,
   "metadata": {},
   "outputs": [],
   "source": [
    "plot_fit(inverse_square_func, distance_array_kerze, max_clear_array_kerze, \n",
    "         'distance / cm ', 'max IR measurement', 'Clear and Distance Kerze')"
   ]
  },
  {
   "cell_type": "code",
   "execution_count": null,
   "metadata": {},
   "outputs": [],
   "source": [
    "plot_fit(inverse_square_func, distance_array_LED, max_clear_array_LED, \n",
    "         'distance / cm ', 'max IR measurement', 'Clear and Distance LED')"
   ]
  },
  {
   "cell_type": "markdown",
   "metadata": {},
   "source": [
    "#### Heatmaps der Messsignale"
   ]
  },
  {
   "cell_type": "code",
   "execution_count": 49,
   "metadata": {},
   "outputs": [],
   "source": [
    "# Alle Datensätze zusammenführen, um später die globalen Min und Max Werte von Clear \n",
    "# und IR herauszufinden für Skalierung der Farbskala in der Colormap \n",
    "\n",
    "all_data = pd.concat([dfK5, dfK10, dfK15, dfK20, dfK30, dfK50, dfK100, dfK350, dfLED5,\n",
    "                       dfLED10, dfLED15, dfLED100, df15_beide])"
   ]
  },
  {
   "cell_type": "code",
   "execution_count": 19,
   "metadata": {},
   "outputs": [],
   "source": [
    "all_data_without_5cm = pd.concat([dfK10, dfK15, dfK20, dfK30, dfK50, dfK100, dfK350,\n",
    "                       dfLED10, dfLED15, dfLED100, df15_beide])"
   ]
  },
  {
   "cell_type": "code",
   "execution_count": 20,
   "metadata": {},
   "outputs": [],
   "source": [
    "# Definieren einer Funktion zum Erstellen von Heatmaps mit den gegebenen Inputs\n",
    "# wo ': str' o.Ä. steht, haben wir in der Funktion vermerkt, um welchen Datentyp es sich \n",
    "# beim Input handelt, weil man das sonst leicht vergisst \n",
    "\n",
    "def get_normalized_heatmap(input_dataframe: pd.DataFrame, values_column: str,\n",
    "                            plot_title: str, colormap: str):\n",
    "     \n",
    "    # aus dem input df die columns herausnehmen, die man braucht\n",
    "    heatmap_data = input_dataframe.pivot(index = 'vDeg', columns = 'hDeg', \n",
    "                                         values = values_column) \n",
    "    \n",
    "    # globale Minima und Maxima aller Werte bestimmen\n",
    "    global_min = all_data_without_5cm[values_column].min().min()\n",
    "    global_max = all_data_without_5cm[values_column].max().max() \n",
    "    plt.figure(figsize= (6,5))\n",
    "    ax = sns.heatmap(heatmap_data, annot = False, cmap = colormap, \n",
    "                     vmin = global_min, vmax = global_max) # heatmap selbst\n",
    "    ax.invert_yaxis()\n",
    "    plt.title(plot_title)\n",
    "    plt.show()"
   ]
  },
  {
   "cell_type": "code",
   "execution_count": null,
   "metadata": {},
   "outputs": [],
   "source": [
    "for i in range(0,13):\n",
    "    name = namen_messungen_liste_without_5cm[i]\n",
    "    plot = get_normalized_heatmap(dataframe_liste_without_5cm[i], \n",
    "                                  'Clear', name, 'cividis')"
   ]
  },
  {
   "cell_type": "code",
   "execution_count": 22,
   "metadata": {},
   "outputs": [],
   "source": [
    "# Heatmap ohne Normalisierung auf das Maximum - selbe Funktion wie oben nur nicht \n",
    "# min und max aller Daten abgefragt und auf die normiet \n",
    "\n",
    "def get_heatmap(input_dataframe: pd.DataFrame, values_column: str, \n",
    "                plot_title: str, colormap: str): \n",
    "    \n",
    "    heatmap_data = input_dataframe.pivot(index = 'vDeg', \n",
    "                                         columns = 'hDeg', values = values_column)\n",
    "    plt.figure(figsize= (2,1))\n",
    "    ax = sns.heatmap(heatmap_data, annot = False, cmap = colormap)\n",
    "    ax.invert_yaxis()\n",
    "    plt.title(plot_title)\n",
    "    plt.show()"
   ]
  },
  {
   "cell_type": "code",
   "execution_count": 13,
   "metadata": {},
   "outputs": [],
   "source": [
    "# Funktionen definieren, um qoutienten zwischen gemessenem IR \n",
    "# und gemessenem Clear Light Wert\n",
    "# bzw. zwischen Rotem und Blauem Licht zu bestimmen \n",
    "# manchmal Division durch 0 -> in dem Fall dann mit \n",
    "# np.inf einen 'unendlichen' Wert andeuten \n",
    "\n",
    "def quotient_IR_clear(row):\n",
    "    return row[\"IR\"] / row[\"Clear\"] if row[\"Clear\"] != 0 else np.inf\n",
    "\n",
    "def quotient_red_blue(row):\n",
    "    return row[\"Red\"] / row[\"Blue\"] if row[\"Blue\"] != 0 else np.inf"
   ]
  },
  {
   "cell_type": "code",
   "execution_count": 14,
   "metadata": {},
   "outputs": [],
   "source": [
    "# Hinzufügen der beiden Columns mit den berechneten Verhältnissen zu allen Dataframes\n",
    "\n",
    "for df in dataframe_liste:\n",
    "    df[\"quotient IR clear\"] = df.apply(quotient_IR_clear, axis=1)\n",
    "    df[\"quotient Red Blue\"] = df.apply(quotient_red_blue, axis=1)"
   ]
  },
  {
   "cell_type": "code",
   "execution_count": 15,
   "metadata": {},
   "outputs": [],
   "source": [
    "namen_messungen_liste = (\"Kerze 5 cm \", \"Kerze 10 cm\", \"Kerze 15 cm \", \"Kerze 20 cm \", \n",
    "                         \"Kerze 30 cm\", \"Kerze 50 cm\", \"Kerze 100 cm \", \"Kerze 350 cm\", \n",
    "                         \"LED 5 cm\", \"LED 10 cm\", \"LED 15 cm\", \"LED 100 cm\", \"Kerze + LED 15 cm\" )\n",
    "namen_messungen_liste_without_5cm = (\"Kerze 10 cm\", \"Kerze 15 cm \", \"Kerze 20 cm \", \n",
    "                                     \"Kerze 30 cm\", \"Kerze 50 cm\", \"Kerze 100 cm \", \"Kerze 350 cm\", \n",
    "                                     \"LED 10 cm\", \"LED 15 cm\", \"LED 100 cm\", \"Kerze + LED 15 cm\" )"
   ]
  },
  {
   "cell_type": "code",
   "execution_count": 17,
   "metadata": {},
   "outputs": [
    {
     "data": {
      "text/html": [
       "<div>\n",
       "<style scoped>\n",
       "    .dataframe tbody tr th:only-of-type {\n",
       "        vertical-align: middle;\n",
       "    }\n",
       "\n",
       "    .dataframe tbody tr th {\n",
       "        vertical-align: top;\n",
       "    }\n",
       "\n",
       "    .dataframe thead th {\n",
       "        text-align: right;\n",
       "    }\n",
       "</style>\n",
       "<table border=\"1\" class=\"dataframe\">\n",
       "  <thead>\n",
       "    <tr style=\"text-align: right;\">\n",
       "      <th></th>\n",
       "      <th>hDeg</th>\n",
       "      <th>vDeg</th>\n",
       "      <th>AmbientT</th>\n",
       "      <th>ObjectT</th>\n",
       "      <th>Clear</th>\n",
       "      <th>Red</th>\n",
       "      <th>Green</th>\n",
       "      <th>Blue</th>\n",
       "      <th>IR</th>\n",
       "      <th>quotient IR clear</th>\n",
       "      <th>quotient Red Blue</th>\n",
       "    </tr>\n",
       "  </thead>\n",
       "  <tbody>\n",
       "    <tr>\n",
       "      <th>0</th>\n",
       "      <td>0.0</td>\n",
       "      <td>45.0</td>\n",
       "      <td>26.12</td>\n",
       "      <td>26.43</td>\n",
       "      <td>17.0</td>\n",
       "      <td>15.0</td>\n",
       "      <td>13.0</td>\n",
       "      <td>11.0</td>\n",
       "      <td>78.0</td>\n",
       "      <td>4.588235</td>\n",
       "      <td>1.363636</td>\n",
       "    </tr>\n",
       "    <tr>\n",
       "      <th>1</th>\n",
       "      <td>0.0</td>\n",
       "      <td>50.0</td>\n",
       "      <td>25.81</td>\n",
       "      <td>26.43</td>\n",
       "      <td>15.0</td>\n",
       "      <td>13.0</td>\n",
       "      <td>12.0</td>\n",
       "      <td>10.0</td>\n",
       "      <td>76.0</td>\n",
       "      <td>5.066667</td>\n",
       "      <td>1.300000</td>\n",
       "    </tr>\n",
       "    <tr>\n",
       "      <th>2</th>\n",
       "      <td>0.0</td>\n",
       "      <td>55.0</td>\n",
       "      <td>25.85</td>\n",
       "      <td>26.43</td>\n",
       "      <td>14.0</td>\n",
       "      <td>12.0</td>\n",
       "      <td>11.0</td>\n",
       "      <td>9.0</td>\n",
       "      <td>71.0</td>\n",
       "      <td>5.071429</td>\n",
       "      <td>1.333333</td>\n",
       "    </tr>\n",
       "    <tr>\n",
       "      <th>3</th>\n",
       "      <td>0.0</td>\n",
       "      <td>60.0</td>\n",
       "      <td>26.15</td>\n",
       "      <td>26.45</td>\n",
       "      <td>13.0</td>\n",
       "      <td>11.0</td>\n",
       "      <td>10.0</td>\n",
       "      <td>8.0</td>\n",
       "      <td>66.0</td>\n",
       "      <td>5.076923</td>\n",
       "      <td>1.375000</td>\n",
       "    </tr>\n",
       "    <tr>\n",
       "      <th>4</th>\n",
       "      <td>0.0</td>\n",
       "      <td>65.0</td>\n",
       "      <td>26.39</td>\n",
       "      <td>26.45</td>\n",
       "      <td>13.0</td>\n",
       "      <td>11.0</td>\n",
       "      <td>9.0</td>\n",
       "      <td>8.0</td>\n",
       "      <td>63.0</td>\n",
       "      <td>4.846154</td>\n",
       "      <td>1.375000</td>\n",
       "    </tr>\n",
       "    <tr>\n",
       "      <th>...</th>\n",
       "      <td>...</td>\n",
       "      <td>...</td>\n",
       "      <td>...</td>\n",
       "      <td>...</td>\n",
       "      <td>...</td>\n",
       "      <td>...</td>\n",
       "      <td>...</td>\n",
       "      <td>...</td>\n",
       "      <td>...</td>\n",
       "      <td>...</td>\n",
       "      <td>...</td>\n",
       "    </tr>\n",
       "    <tr>\n",
       "      <th>356</th>\n",
       "      <td>180.0</td>\n",
       "      <td>115.0</td>\n",
       "      <td>25.05</td>\n",
       "      <td>26.57</td>\n",
       "      <td>8.0</td>\n",
       "      <td>7.0</td>\n",
       "      <td>6.0</td>\n",
       "      <td>5.0</td>\n",
       "      <td>46.0</td>\n",
       "      <td>5.750000</td>\n",
       "      <td>1.400000</td>\n",
       "    </tr>\n",
       "    <tr>\n",
       "      <th>357</th>\n",
       "      <td>180.0</td>\n",
       "      <td>120.0</td>\n",
       "      <td>24.99</td>\n",
       "      <td>26.57</td>\n",
       "      <td>8.0</td>\n",
       "      <td>6.0</td>\n",
       "      <td>6.0</td>\n",
       "      <td>5.0</td>\n",
       "      <td>43.0</td>\n",
       "      <td>5.375000</td>\n",
       "      <td>1.200000</td>\n",
       "    </tr>\n",
       "    <tr>\n",
       "      <th>358</th>\n",
       "      <td>180.0</td>\n",
       "      <td>125.0</td>\n",
       "      <td>24.93</td>\n",
       "      <td>26.55</td>\n",
       "      <td>8.0</td>\n",
       "      <td>6.0</td>\n",
       "      <td>6.0</td>\n",
       "      <td>5.0</td>\n",
       "      <td>41.0</td>\n",
       "      <td>5.125000</td>\n",
       "      <td>1.200000</td>\n",
       "    </tr>\n",
       "    <tr>\n",
       "      <th>359</th>\n",
       "      <td>180.0</td>\n",
       "      <td>130.0</td>\n",
       "      <td>25.01</td>\n",
       "      <td>26.55</td>\n",
       "      <td>7.0</td>\n",
       "      <td>6.0</td>\n",
       "      <td>5.0</td>\n",
       "      <td>5.0</td>\n",
       "      <td>36.0</td>\n",
       "      <td>5.142857</td>\n",
       "      <td>1.200000</td>\n",
       "    </tr>\n",
       "    <tr>\n",
       "      <th>360</th>\n",
       "      <td>180.0</td>\n",
       "      <td>135.0</td>\n",
       "      <td>24.94</td>\n",
       "      <td>26.56</td>\n",
       "      <td>7.0</td>\n",
       "      <td>5.0</td>\n",
       "      <td>5.0</td>\n",
       "      <td>4.0</td>\n",
       "      <td>33.0</td>\n",
       "      <td>4.714286</td>\n",
       "      <td>1.250000</td>\n",
       "    </tr>\n",
       "  </tbody>\n",
       "</table>\n",
       "<p>361 rows × 11 columns</p>\n",
       "</div>"
      ],
      "text/plain": [
       "      hDeg   vDeg  AmbientT  ObjectT  Clear   Red  Green  Blue    IR  \\\n",
       "0      0.0   45.0     26.12    26.43   17.0  15.0   13.0  11.0  78.0   \n",
       "1      0.0   50.0     25.81    26.43   15.0  13.0   12.0  10.0  76.0   \n",
       "2      0.0   55.0     25.85    26.43   14.0  12.0   11.0   9.0  71.0   \n",
       "3      0.0   60.0     26.15    26.45   13.0  11.0   10.0   8.0  66.0   \n",
       "4      0.0   65.0     26.39    26.45   13.0  11.0    9.0   8.0  63.0   \n",
       "..     ...    ...       ...      ...    ...   ...    ...   ...   ...   \n",
       "356  180.0  115.0     25.05    26.57    8.0   7.0    6.0   5.0  46.0   \n",
       "357  180.0  120.0     24.99    26.57    8.0   6.0    6.0   5.0  43.0   \n",
       "358  180.0  125.0     24.93    26.55    8.0   6.0    6.0   5.0  41.0   \n",
       "359  180.0  130.0     25.01    26.55    7.0   6.0    5.0   5.0  36.0   \n",
       "360  180.0  135.0     24.94    26.56    7.0   5.0    5.0   4.0  33.0   \n",
       "\n",
       "     quotient IR clear  quotient Red Blue  \n",
       "0             4.588235           1.363636  \n",
       "1             5.066667           1.300000  \n",
       "2             5.071429           1.333333  \n",
       "3             5.076923           1.375000  \n",
       "4             4.846154           1.375000  \n",
       "..                 ...                ...  \n",
       "356           5.750000           1.400000  \n",
       "357           5.375000           1.200000  \n",
       "358           5.125000           1.200000  \n",
       "359           5.142857           1.200000  \n",
       "360           4.714286           1.250000  \n",
       "\n",
       "[361 rows x 11 columns]"
      ]
     },
     "execution_count": 17,
     "metadata": {},
     "output_type": "execute_result"
    }
   ],
   "source": [
    "dfK10"
   ]
  },
  {
   "cell_type": "code",
   "execution_count": null,
   "metadata": {},
   "outputs": [],
   "source": [
    "# über alle Datensätze iterieren und die Object Temperature als Heatmap plotten \n",
    "\n",
    "for i in range(0,13):\n",
    "    name = namen_messungen_liste[i]\n",
    "    plot = get_heatmap(dataframe_liste[i], 'ObjectT', name, 'hot')"
   ]
  },
  {
   "cell_type": "code",
   "execution_count": null,
   "metadata": {},
   "outputs": [],
   "source": [
    "# über alle Datensätze iterieren und IR als Heatmap plotten - normalisiert\n",
    "\n",
    "for i in range(0,13):\n",
    "    name = namen_messungen_liste[i]\n",
    "    plot = get_normalized_heatmap(dataframe_liste[i], 'Clear', name, 'cividis')"
   ]
  },
  {
   "cell_type": "code",
   "execution_count": null,
   "metadata": {},
   "outputs": [],
   "source": [
    "# über alle Datensätze iterieren und IR als Heatmap plotten \n",
    "# - NICHT normalisiert auf Maximalwert\n",
    "\n",
    "for i in range(0,13):\n",
    "    name = namen_messungen_liste[i]\n",
    "    plot = get_heatmap(dataframe_liste[i], 'IR', name, 'hot')"
   ]
  },
  {
   "cell_type": "code",
   "execution_count": null,
   "metadata": {},
   "outputs": [],
   "source": [
    "# über alle Datensätze iterieren und Clear als Heatmap plotten \n",
    "# - NICHT normalisiert auf Maximalwert\n",
    "\n",
    "for i in range(0,13):\n",
    "    name = namen_messungen_liste[i]\n",
    "    plot = get_heatmap(dataframe_liste[i], 'Clear', name, 'cividis')"
   ]
  },
  {
   "cell_type": "code",
   "execution_count": null,
   "metadata": {},
   "outputs": [],
   "source": [
    "# über alle Datensätze iterieren und Clear als Heatmap plotten -  normalisiert \n",
    "\n",
    "for i in range(0,13):\n",
    "    name = namen_messungen_liste[i]\n",
    "    plot = get_normalized_heatmap(dataframe_liste[i],\n",
    "                                   'Clear', name, 'cividis')"
   ]
  },
  {
   "cell_type": "code",
   "execution_count": null,
   "metadata": {},
   "outputs": [],
   "source": [
    "# Verhältnis von IR zu Clear plotten - nicht normalisiert\n",
    "\n",
    "for i in range(0,13):\n",
    "    name = namen_messungen_liste[i]\n",
    "    plot = get_heatmap(dataframe_liste[i], \n",
    "                       'quotient IR clear', name, 'coolwarm')"
   ]
  },
  {
   "cell_type": "code",
   "execution_count": null,
   "metadata": {},
   "outputs": [],
   "source": [
    "#Verhältnis von IR zu Clear plotten -  normalisiert\n",
    "\n",
    "for i in range(0,13):\n",
    "    name = namen_messungen_liste[i]\n",
    "    plot = get_normalized_heatmap(dataframe_liste[i], \n",
    "                                  'quotient IR clear', name, 'coolwarm')"
   ]
  },
  {
   "cell_type": "code",
   "execution_count": null,
   "metadata": {},
   "outputs": [],
   "source": [
    "#Verhältnis von Red zu Blue plotten -  normalisiert\n",
    "\n",
    "for i in range(0,13):\n",
    "    name = namen_messungen_liste[i]\n",
    "    plot = get_normalized_heatmap(dataframe_liste[i], \n",
    "                                  'quotient Red Blue', name, 'coolwarm')"
   ]
  },
  {
   "cell_type": "code",
   "execution_count": null,
   "metadata": {},
   "outputs": [],
   "source": [
    "#Verhältnis von Red zu Blue plotten -  nicht normalisiert\n",
    "\n",
    "for i in range(0,13):\n",
    "    name = namen_messungen_liste[i]\n",
    "    plot = get_heatmap(dataframe_liste[i],\n",
    "                        'quotient Red Blue', name, 'coolwarm')"
   ]
  }
 ],
 "metadata": {
  "kernelspec": {
   "display_name": "Python 3",
   "language": "python",
   "name": "python3"
  },
  "language_info": {
   "codemirror_mode": {
    "name": "ipython",
    "version": 3
   },
   "file_extension": ".py",
   "mimetype": "text/x-python",
   "name": "python",
   "nbconvert_exporter": "python",
   "pygments_lexer": "ipython3",
   "version": "3.11.9"
  }
 },
 "nbformat": 4,
 "nbformat_minor": 2
}
